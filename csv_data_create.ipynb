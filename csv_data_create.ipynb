{
 "cells": [
  {
   "cell_type": "code",
   "execution_count": null,
   "metadata": {},
   "outputs": [],
   "source": [
    "import csv\n",
    "import re\n",
    "import glob\n",
    "import pandas as pd\n",
    "\n",
    "path_str = \"/project/work01/BTSJ_hr/5_Friend/*.xlsx\"\n",
    "paths = glob.glob(path_str)"
   ]
  },
  {
   "cell_type": "code",
   "execution_count": null,
   "metadata": {},
   "outputs": [],
   "source": [
    "field_name = ['category','id1','utterance1','id2','utterance2','agreement','laugh']\n",
    "\n",
    "category = 5\n",
    "\n",
    "data =[]"
   ]
  },
  {
   "cell_type": "code",
   "execution_count": null,
   "metadata": {},
   "outputs": [],
   "source": [
    "def cleansing(text):\n",
    "    pattern = re.compile(r',,|‘.*?’|《.*?》|=|…|『|』|\\“|\\”|【|】|「.*?」|\\[.*?\\]|\\?|<.*?>|〈.*?〉|\\(.*?\\)|#|{|}|!|！')\n",
    "    text = re.sub(r'<([^>]*)>{>}', r'{\\1}', text)\n",
    "    text = re.sub(r'<([^>]*)>{<}', r'{\\1}', text)\n",
    "    text = pattern.sub('', text)\n",
    "    text = re.sub(r'N{2}','', text)\n",
    "    text = re.sub(r'，', r'、', text)\n",
    "    text = re.sub(r'、+', r'、', text)\n",
    "    text = re.sub(r'。+', r'。', text)\n",
    "    text = re.sub(r'、。', r'。', text)\n",
    "    text = re.sub(r'^[!\"#$%&\\'()*+-.,\\/:;<=>?@[\\]^_`{|}~、。ー 　]+','', text)\n",
    "    return text"
   ]
  },
  {
   "cell_type": "code",
   "execution_count": null,
   "metadata": {},
   "outputs": [],
   "source": [
    "with open('/project/work01/BTSJ_data/hr_5.csv','w',encoding='utf-8') as csvfile:\n",
    "    for file_path in paths:\n",
    "        current_data = {'category':category, 'id1':None, 'utterance1':None, 'id2':None, 'utterance2':None, 'agreement':None, 'laugh':None}\n",
    "        df = pd.read_excel(file_path)\n",
    "        df = df.drop(df.index[[0]])\n",
    "        df = df.drop(df.columns[[0, 1, 2]], axis=1)\n",
    "        df = df.drop(df.columns[5:], axis=1)\n",
    "        last_line, last_row = df.shape\n",
    "        print(last_line)\n",
    "        for i in range(1, last_line):\n",
    "            if i == 1:\n",
    "                current_data['id2'] = df.iloc[i, 3]\n",
    "                current_data['utterance2'] = cleansing(df.iloc[i,4])\n",
    "            elif i == last_line-1:\n",
    "                if current_data['id2'] == df.iloc[i, 3]:\n",
    "                    current_data['utterance2'] += cleansing(df.iloc[i,4])\n",
    "                    data.append(current_data.copy())\n",
    "                else:\n",
    "                    if current_data['id1'] is not None and current_data['id2'] is not None and current_data['id1'] != current_data['id2']:\n",
    "                        data.append(current_data.copy())\n",
    "                    current_data['id1'] = current_data['id2']\n",
    "                    current_data['utterance1'] = current_data['utterance2']\n",
    "                    current_data['id2'] = df.iloc[i, 3]\n",
    "                    current_data['utterance2'] = cleansing(df.iloc[i,4])\n",
    "                    data.append(current_data.copy())\n",
    "            else:\n",
    "                if current_data['id2'] == df.iloc[i, 3]:\n",
    "                    current_data['utterance2'] += cleansing(df.iloc[i,4])\n",
    "                else:\n",
    "                    if current_data['id1'] is not None and current_data['id2'] is not None and current_data['id1'] != current_data['id2']:\n",
    "                        data.append(current_data.copy())\n",
    "                    current_data['id1'] = current_data['id2']\n",
    "                    current_data['utterance1'] = current_data['utterance2']\n",
    "                    current_data['id2'] = df.iloc[i, 3]\n",
    "                    current_data['utterance2'] = cleansing(df.iloc[i,4])\n",
    "    \n",
    "    writer = csv.DictWriter(csvfile, fieldnames = field_name)\n",
    "    writer.writeheader()\n",
    "    writer.writerows(data)\n"
   ]
  }
 ],
 "metadata": {
  "kernelspec": {
   "display_name": "pytorch",
   "language": "python",
   "name": "python3"
  },
  "language_info": {
   "codemirror_mode": {
    "name": "ipython",
    "version": 3
   },
   "file_extension": ".py",
   "mimetype": "text/x-python",
   "name": "python",
   "nbconvert_exporter": "python",
   "pygments_lexer": "ipython3",
   "version": "3.10.12"
  }
 },
 "nbformat": 4,
 "nbformat_minor": 2
}
